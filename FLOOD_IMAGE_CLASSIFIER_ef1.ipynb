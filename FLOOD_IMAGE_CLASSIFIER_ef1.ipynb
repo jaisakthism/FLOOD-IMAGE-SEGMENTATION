{
  "nbformat": 4,
  "nbformat_minor": 0,
  "metadata": {
    "colab": {
      "provenance": []
    },
    "kernelspec": {
      "display_name": "Python 3",
      "name": "python3"
    },
    "language_info": {
      "name": "python"
    },
    "accelerator": "GPU"
  },
  "cells": [
    {
      "cell_type": "code",
      "metadata": {
        "id": "eDPu8HHmPioy"
      },
      "source": [
        "# Loading required libraries and functions\n",
        "import shutil\n",
        "import random\n",
        "import itertools\n",
        "%matplotlib inline\n",
        "import numpy as np\n",
        "import tensorflow as tf\n",
        "import matplotlib as mpl\n",
        "from keras import backend\n",
        "from tensorflow import keras\n",
        "import matplotlib.pyplot as plt\n",
        "from sklearn.metrics import f1_score\n",
        "from sklearn.metrics import accuracy_score\n",
        "from tensorflow.keras.models import Model\n",
        "from tensorflow.keras.optimizers import Adam\n",
        "from sklearn.metrics import confusion_matrix\n",
        "from keras.applications import imagenet_utils\n",
        "from tensorflow.keras.preprocessing import image\n",
        "from tensorflow.keras.layers import Dense, Activation\n",
        "from sklearn.metrics import precision_score, recall_score\n",
        "from tensorflow.keras.metrics import categorical_crossentropy\n",
        "from tensorflow.keras.preprocessing.image import ImageDataGenerator\n",
        "from tensorflow.keras.applications.mobilenet import decode_predictions, preprocess_input"
      ],
      "execution_count": null,
      "outputs": []
    },
    {
      "cell_type": "code",
      "metadata": {
        "id": "I-Os7K1yP6x2"
      },
      "source": [
        "import tensorflow as tf\n",
        "import glob\n",
        "import numpy as np\n",
        "from sklearn.model_selection import train_test_split\n",
        "import PIL.Image\n",
        "import cv2\n",
        "import random\n",
        "from scipy import ndarray\n",
        "import skimage as sk\n",
        "from skimage import transform\n",
        "from skimage import util\n",
        "import random\n",
        "from keras import backend as K\n",
        "import os\n",
        "from keras.layers import *\n",
        "import re\n",
        "import zipfile\n",
        "import pathlib\n",
        "import PIL\n",
        "import pandas as pd"
      ],
      "execution_count": null,
      "outputs": []
    },
    {
      "cell_type": "code",
      "metadata": {
        "colab": {
          "base_uri": "https://localhost:8080/"
        },
        "id": "iPCNYNEOQGX7",
        "outputId": "98104bda-0204-40ae-8359-b4eae182f9a9"
      },
      "source": [
        "from PIL import Image, ImageOps\n",
        "filelist_trainx = sorted(glob.glob(\"/content/drive/MyDrive/social_media_images/devset_images_zipfile/devset_images/*/*\"))\n",
        "X_train = np.array([np.array(PIL.Image.open(fname).resize((240,240),PIL.Image.ANTIALIAS)) for fname in filelist_trainx])\n",
        "X_train.shape"
      ],
      "execution_count": null,
      "outputs": [
        {
          "output_type": "execute_result",
          "data": {
            "text/plain": [
              "(5280, 240, 240, 3)"
            ]
          },
          "metadata": {},
          "execution_count": 3
        }
      ]
    },
    {
      "cell_type": "code",
      "metadata": {
        "colab": {
          "base_uri": "https://localhost:8080/"
        },
        "id": "VIqcnkJIQIad",
        "outputId": "8d8dd466-f4f7-4f38-94a9-0dfa4a8fbf5a"
      },
      "source": [
        "X_train.shape"
      ],
      "execution_count": null,
      "outputs": [
        {
          "output_type": "execute_result",
          "data": {
            "text/plain": [
              "(5280, 240, 240, 3)"
            ]
          },
          "metadata": {},
          "execution_count": 4
        }
      ]
    },
    {
      "cell_type": "code",
      "metadata": {
        "colab": {
          "base_uri": "https://localhost:8080/"
        },
        "id": "Sq5rpFMGQKde",
        "outputId": "649da43b-dc58-4a8e-9ec9-fb8f2e9d451b"
      },
      "source": [
        "from tensorflow.keras.utils import to_categorical\n",
        "Y_train  = pd.read_csv(\"/content/drive/MyDrive/social_media_images/devset_images_zipfile/devset_images_gt.csv\", header = None)\n",
        "Y_train = Y_train.iloc[:,1].values\n",
        "Y_train = to_categorical(Y_train)\n",
        "Y_train = Y_train.astype('float32')\n",
        "#Y_train.index = Y_train.index + 1\n",
        "#tf.convert_to_tensor(Y_train)\n",
        "Y_train = np.array(Y_train)\n",
        "print(Y_train)"
      ],
      "execution_count": null,
      "outputs": [
        {
          "output_type": "stream",
          "name": "stdout",
          "text": [
            "[[1. 0.]\n",
            " [1. 0.]\n",
            " [1. 0.]\n",
            " ...\n",
            " [1. 0.]\n",
            " [1. 0.]\n",
            " [1. 0.]]\n"
          ]
        }
      ]
    },
    {
      "cell_type": "code",
      "metadata": {
        "id": "o3KdHM17F5BS"
      },
      "source": [
        "x_train, x_val, y_train, y_val = train_test_split(X_train, Y_train, test_size = 0.33, random_state = 54)\n"
      ],
      "execution_count": null,
      "outputs": []
    },
    {
      "cell_type": "code",
      "metadata": {
        "id": "1xYi7NkiF8np"
      },
      "source": [
        "from tensorflow.keras.applications import EfficientNetB1"
      ],
      "execution_count": null,
      "outputs": []
    },
    {
      "cell_type": "code",
      "metadata": {
        "id": "y1aQXFQPGAiw"
      },
      "source": [
        "from tensorflow.keras.models import Sequential\n",
        "from tensorflow.keras import layers"
      ],
      "execution_count": null,
      "outputs": []
    },
    {
      "cell_type": "code",
      "metadata": {
        "id": "H5hpGQqrGDmA"
      },
      "source": [
        "\n",
        "\n",
        "img_augmentation = Sequential(\n",
        "    [\n",
        "        layers.RandomRotation(factor=0.15),\n",
        "        layers.RandomTranslation(height_factor=0.1, width_factor=0.1),\n",
        "        layers.RandomFlip(),\n",
        "        layers.RandomContrast(factor=0.1),\n",
        "    ],\n",
        "    name=\"img_augmentation\",\n",
        ")"
      ],
      "execution_count": null,
      "outputs": []
    },
    {
      "cell_type": "code",
      "metadata": {
        "id": "dE5zFXE2GFKG"
      },
      "source": [
        "img_height = 240\n",
        "img_width = 240"
      ],
      "execution_count": null,
      "outputs": []
    },
    {
      "cell_type": "code",
      "metadata": {
        "id": "Pae9jt3yGJTZ"
      },
      "source": [
        "#preprocess_input = tf.keras.applications.mobilenet_v2.preprocess_input"
      ],
      "execution_count": null,
      "outputs": []
    },
    {
      "cell_type": "code",
      "metadata": {
        "id": "_ezlyJi9GLK9"
      },
      "source": [
        "def build_model(num_classes):\n",
        "    inputs = layers.Input(shape=(img_height, img_width,3))\n",
        "    x = img_augmentation(inputs)\n",
        "    model = EfficientNetB1(include_top=False, input_tensor=x, weights=\"imagenet\")\n",
        "\n",
        "    # Freeze the pretrained weights\n",
        "    model.trainable = False\n",
        "\n",
        "    # Rebuild top\n",
        "    x = layers.GlobalAveragePooling2D(name=\"avg_pool\")(model.output)\n",
        "    x = layers.BatchNormalization()(x)\n",
        "\n",
        "    top_dropout_rate = 0.2\n",
        "    x = layers.Dropout(top_dropout_rate, name=\"top_dropout\")(x)\n",
        "    outputs = layers.Dense(NUM_CLASSES, activation=\"sigmoid\", name=\"pred\")(x)\n",
        "\n",
        "    # Compile\n",
        "    model = tf.keras.Model(inputs, outputs, name=\"EfficientNet\")\n",
        "    optimizer = tf.keras.optimizers.Adam(learning_rate=1e-3)\n",
        "    mse = tf.keras.losses.MeanSquaredLogarithmicError()\n",
        "    cc = \"categorical_crossentropy\"\n",
        "    sce = tf.keras.losses.MeanSquaredError()\n",
        "    cosine_loss = tf.keras.losses.CosineSimilarity(axis=1)\n",
        "    model.compile(\n",
        "        optimizer= optimizer, loss= mse, metrics=[\"accuracy\"]\n",
        "    )\n",
        "    return model\n"
      ],
      "execution_count": null,
      "outputs": []
    },
    {
      "cell_type": "code",
      "metadata": {
        "colab": {
          "base_uri": "https://localhost:8080/"
        },
        "id": "lt71Lq1KGO0r",
        "outputId": "6478d32d-9b7c-43e2-b703-c26db01ddafc"
      },
      "source": [
        "import tensorflow as tf\n",
        "\n",
        "try:\n",
        "    tpu = tf.distribute.cluster_resolver.TPUClusterResolver()  # TPU detection\n",
        "    print(\"Running on TPU \", tpu.cluster_spec().as_dict()[\"worker\"])\n",
        "    tf.config.experimental_connect_to_cluster(tpu)\n",
        "    tf.tpu.experimental.initialize_tpu_system(tpu)\n",
        "    strategy = tf.distribute.TPUStrategy(tpu)\n",
        "except ValueError:\n",
        "    print(\"Not connected to a TPU runtime. Using CPU/GPU strategy\")\n",
        "    strategy = tf.distribute.MirroredStrategy()\n"
      ],
      "execution_count": null,
      "outputs": [
        {
          "output_type": "stream",
          "name": "stdout",
          "text": [
            "Not connected to a TPU runtime. Using CPU/GPU strategy\n",
            "INFO:tensorflow:Using MirroredStrategy with devices ('/job:localhost/replica:0/task:0/device:GPU:0',)\n"
          ]
        },
        {
          "output_type": "stream",
          "name": "stderr",
          "text": [
            "INFO:tensorflow:Using MirroredStrategy with devices ('/job:localhost/replica:0/task:0/device:GPU:0',)\n"
          ]
        }
      ]
    },
    {
      "cell_type": "code",
      "metadata": {
        "colab": {
          "base_uri": "https://localhost:8080/"
        },
        "id": "3EmWx2LoGT1o",
        "outputId": "58ccbdaa-3bf5-443b-c95f-8cfd8720b1d3"
      },
      "source": [
        "NUM_CLASSES = 2\n",
        "with strategy.scope():\n",
        "    model = build_model(num_classes=NUM_CLASSES)\n",
        "\n",
        "epochs = 20 #@param {type:\"slider\", min:8, max:100, step:1}\n",
        "#hist = model.fit(ds_train, epochs=epochs, validation_data=ds_test, verbose=2)\n",
        "hist = model.fit(x_train,y_train,\n",
        "                  epochs= epochs,\n",
        "                  #nitial_epoch=hist.epoch[-1],\n",
        "                  validation_data=(x_val, y_val))"
      ],
      "execution_count": null,
      "outputs": [
        {
          "output_type": "stream",
          "name": "stdout",
          "text": [
            "Epoch 1/20\n",
            "111/111 [==============================] - 52s 348ms/step - loss: 0.1396 - accuracy: 0.5714 - val_loss: 0.1181 - val_accuracy: 0.6397\n",
            "Epoch 2/20\n",
            "111/111 [==============================] - 33s 295ms/step - loss: 0.1299 - accuracy: 0.6067 - val_loss: 0.1234 - val_accuracy: 0.6437\n",
            "Epoch 3/20\n",
            "111/111 [==============================] - 33s 295ms/step - loss: 0.1283 - accuracy: 0.6042 - val_loss: 0.1237 - val_accuracy: 0.6357\n",
            "Epoch 4/20\n",
            "111/111 [==============================] - 33s 297ms/step - loss: 0.1254 - accuracy: 0.6053 - val_loss: 0.1243 - val_accuracy: 0.6133\n",
            "Epoch 5/20\n",
            "111/111 [==============================] - 33s 295ms/step - loss: 0.1214 - accuracy: 0.6070 - val_loss: 0.1251 - val_accuracy: 0.6024\n",
            "Epoch 6/20\n",
            "111/111 [==============================] - 33s 295ms/step - loss: 0.1190 - accuracy: 0.6206 - val_loss: 0.1273 - val_accuracy: 0.5542\n",
            "Epoch 7/20\n",
            "111/111 [==============================] - 33s 296ms/step - loss: 0.1167 - accuracy: 0.6180 - val_loss: 0.1245 - val_accuracy: 0.6001\n",
            "Epoch 8/20\n",
            "111/111 [==============================] - 33s 296ms/step - loss: 0.1188 - accuracy: 0.6124 - val_loss: 0.1237 - val_accuracy: 0.5869\n",
            "Epoch 9/20\n",
            "111/111 [==============================] - 33s 297ms/step - loss: 0.1160 - accuracy: 0.6237 - val_loss: 0.1238 - val_accuracy: 0.6168\n",
            "Epoch 10/20\n",
            "111/111 [==============================] - 33s 297ms/step - loss: 0.1158 - accuracy: 0.6231 - val_loss: 0.1259 - val_accuracy: 0.5571\n",
            "Epoch 11/20\n",
            "111/111 [==============================] - 33s 296ms/step - loss: 0.1147 - accuracy: 0.6271 - val_loss: 0.1214 - val_accuracy: 0.5858\n",
            "Epoch 12/20\n",
            "111/111 [==============================] - 33s 296ms/step - loss: 0.1139 - accuracy: 0.6226 - val_loss: 0.1206 - val_accuracy: 0.6208\n",
            "Epoch 13/20\n",
            "111/111 [==============================] - 33s 295ms/step - loss: 0.1131 - accuracy: 0.6237 - val_loss: 0.1227 - val_accuracy: 0.6122\n",
            "Epoch 14/20\n",
            "111/111 [==============================] - 33s 297ms/step - loss: 0.1140 - accuracy: 0.6291 - val_loss: 0.1211 - val_accuracy: 0.6059\n",
            "Epoch 15/20\n",
            "111/111 [==============================] - 33s 296ms/step - loss: 0.1139 - accuracy: 0.6226 - val_loss: 0.1206 - val_accuracy: 0.6099\n",
            "Epoch 16/20\n",
            "111/111 [==============================] - 33s 295ms/step - loss: 0.1146 - accuracy: 0.6271 - val_loss: 0.1224 - val_accuracy: 0.5812\n",
            "Epoch 17/20\n",
            "111/111 [==============================] - 33s 295ms/step - loss: 0.1107 - accuracy: 0.6344 - val_loss: 0.1231 - val_accuracy: 0.6081\n",
            "Epoch 18/20\n",
            "111/111 [==============================] - 33s 297ms/step - loss: 0.1121 - accuracy: 0.6288 - val_loss: 0.1232 - val_accuracy: 0.5898\n",
            "Epoch 19/20\n",
            "111/111 [==============================] - 33s 297ms/step - loss: 0.1122 - accuracy: 0.6245 - val_loss: 0.1236 - val_accuracy: 0.5990\n",
            "Epoch 20/20\n",
            "111/111 [==============================] - 33s 296ms/step - loss: 0.1137 - accuracy: 0.6277 - val_loss: 0.1259 - val_accuracy: 0.5554\n"
          ]
        }
      ]
    },
    {
      "cell_type": "code",
      "metadata": {
        "colab": {
          "base_uri": "https://localhost:8080/"
        },
        "id": "zQctl_PlGXn9",
        "outputId": "cddc9f76-ae15-41db-c534-0d2779797d8e"
      },
      "source": [
        "histt = model.evaluate(x_train,y_train)"
      ],
      "execution_count": null,
      "outputs": [
        {
          "output_type": "stream",
          "name": "stdout",
          "text": [
            "111/111 [==============================] - 22s 195ms/step - loss: 0.1110 - accuracy: 0.6234\n"
          ]
        }
      ]
    },
    {
      "cell_type": "code",
      "metadata": {
        "colab": {
          "base_uri": "https://localhost:8080/"
        },
        "id": "EFKW_OsIGYVw",
        "outputId": "a8429c7d-6d7b-439f-ca6e-7ef3b8c20d9f"
      },
      "source": [
        "histvv = model.evaluate(x_val,y_val)"
      ],
      "execution_count": null,
      "outputs": [
        {
          "output_type": "stream",
          "name": "stdout",
          "text": [
            "55/55 [==============================] - 11s 194ms/step - loss: 0.1259 - accuracy: 0.5554\n"
          ]
        }
      ]
    },
    {
      "cell_type": "code",
      "metadata": {
        "colab": {
          "base_uri": "https://localhost:8080/",
          "height": 513
        },
        "id": "mjLFGru9Gaw4",
        "outputId": "b15883c9-028a-4092-f06b-4fa03405a069"
      },
      "source": [
        "acc = hist.history['accuracy']\n",
        "val_acc = hist.history['val_accuracy']\n",
        "\n",
        "loss = hist.history['loss']\n",
        "val_loss = hist.history['val_loss']\n",
        "\n",
        "plt.figure(figsize=(8, 8))\n",
        "plt.subplot(2, 1, 1)\n",
        "plt.plot(acc, label='Training Accuracy')\n",
        "plt.plot(val_acc, label='Validation Accuracy')\n",
        "plt.legend(loc='lower right')\n",
        "plt.ylabel('Accuracy')\n",
        "plt.ylim([min(plt.ylim()),1])\n",
        "plt.title('Training and Validation Accuracy_B1')\n",
        "\n",
        "plt.subplot(2, 1, 2)\n",
        "plt.plot(loss, label='Training Loss')\n",
        "plt.plot(val_loss, label='Validation Loss')\n",
        "plt.legend(loc='upper right')\n",
        "plt.ylabel('Cross Entropy')\n",
        "plt.ylim([0,1.0])\n",
        "plt.title('Training and Validation Loss_B1')\n",
        "plt.xlabel('epoch')\n",
        "plt.show()"
      ],
      "execution_count": null,
      "outputs": [
        {
          "output_type": "display_data",
          "data": {
            "image/png": "[encoded data removed]",
            "text/plain": [
              "<Figure size 576x576 with 2 Axes>"
            ]
          },
          "metadata": {
            "needs_background": "light"
          }
        }
      ]
    },
    {
      "cell_type": "code",
      "metadata": {
        "id": "XnT8xKDoGcWA"
      },
      "source": [
        "predictions = model.predict(x_val)\n"
      ],
      "execution_count": null,
      "outputs": []
    },
    {
      "cell_type": "code",
      "metadata": {
        "colab": {
          "base_uri": "https://localhost:8080/"
        },
        "id": "_3APibOpPxSj",
        "outputId": "63c02912-4c3e-477b-84cb-609329dec636"
      },
      "source": [
        "y_pred = np.argmax(predictions,axis =1)\n",
        "\n",
        "y_val = np.argmax(y_val,axis =1)\n",
        "print(y_val)\n",
        "print(y_pred)"
      ],
      "execution_count": null,
      "outputs": [
        {
          "output_type": "stream",
          "name": "stdout",
          "text": [
            "[1 1 0 ... 1 0 1]\n",
            "[0 0 0 ... 1 1 1]\n"
          ]
        }
      ]
    },
    {
      "cell_type": "code",
      "metadata": {
        "colab": {
          "base_uri": "https://localhost:8080/"
        },
        "id": "bcqJHHjTGe5l",
        "outputId": "47e636d2-4e45-4cf7-ef13-6bd91505166c"
      },
      "source": [
        "mt = confusion_matrix(y_val, y_pred)\n",
        "print(\"False positive rate : %f %%\" % ((mt[0][1] / float(sum(mt[0])))*100))\n",
        "print('False negative rate : %f %%' % ( (mt[1][0] / float(sum(mt[1]))*100)))\n"
      ],
      "execution_count": null,
      "outputs": [
        {
          "output_type": "stream",
          "name": "stdout",
          "text": [
            "False positive rate : 29.964222 %\n",
            "False negative rate : 70.400000 %\n"
          ]
        }
      ]
    },
    {
      "cell_type": "code",
      "metadata": {
        "colab": {
          "base_uri": "https://localhost:8080/"
        },
        "id": "Ae4I28dfGiJ7",
        "outputId": "a02e8bce-a9db-4833-f5bd-da61b5cb8d1e"
      },
      "source": [
        "import sklearn.metrics as metrics\n",
        "\n",
        "print(metrics.classification_report(y_val, y_pred))"
      ],
      "execution_count": null,
      "outputs": [
        {
          "output_type": "stream",
          "name": "stdout",
          "text": [
            "              precision    recall  f1-score   support\n",
            "\n",
            "           0       0.64      0.70      0.67      1118\n",
            "           1       0.36      0.30      0.32       625\n",
            "\n",
            "    accuracy                           0.56      1743\n",
            "   macro avg       0.50      0.50      0.50      1743\n",
            "weighted avg       0.54      0.56      0.54      1743\n",
            "\n"
          ]
        }
      ]
    },
    {
      "cell_type": "code",
      "metadata": {
        "colab": {
          "base_uri": "https://localhost:8080/",
          "height": 592
        },
        "id": "RCEMgOgUGkOZ",
        "outputId": "3f238a67-e685-4bb7-b208-124c4691ea9a"
      },
      "source": [
        "import seaborn as sns## for processing\n",
        "\n",
        "classes = np.unique(y_val)\n",
        "y_test_array = pd.get_dummies(y_val, drop_first=False).values\n",
        "\n",
        "## Accuracy, Precision, Recall\n",
        "accuracy = metrics.accuracy_score(y_val, y_pred)\n",
        "#auc = metrics.roc_auc_score(y_test, predicted_prob, multi_class=\"ovr\")\n",
        "print(\"Accuracy:\",  round(accuracy*100,2))\n",
        "#print(\"Auc:\", round(auc,2))\n",
        "print(\"Detail:\")\n",
        "print(metrics.classification_report(y_val, y_pred))\n",
        "\n",
        "## Plot confusion matrix\n",
        "cm = metrics.confusion_matrix(y_val, y_pred)\n",
        "fig, ax = plt.subplots()\n",
        "sns.heatmap(cm, annot=True, fmt='d', ax=ax, cmap=plt.cm.Blues,\n",
        "            cbar=False)\n",
        "ax.set(xlabel=\"Pred\", ylabel=\"True\", xticklabels=classes,\n",
        "       yticklabels=classes, title=\"Confusion matrix_B1\")\n",
        "plt.yticks(rotation=0)\n",
        "\n",
        "#fig, ax = plt.subplots(nrows=1, ncols=2,figsize=(15,5))\n",
        "\n",
        "\"\"\"## Plot roc\n",
        "for i in range(len(classes)):\n",
        "    fpr, tpr, thresholds = metrics.roc_curve(y_test_array[:,i],\n",
        "                           predictions[:,i])\n",
        "    ax[0].plot(fpr, tpr, lw=3,\n",
        "              label='{0} (area={1:0.2f})'.format(classes[i],\n",
        "                              metrics.auc(fpr, tpr))\n",
        "               )\n",
        "ax[0].plot([0,1], [0,1], color='green', lw=3, linestyle='--')\n",
        "ax[0].set(xlim=[-0.05,1.0], ylim=[0.0,1.05],\n",
        "          xlabel='False Positive Rate',\n",
        "          ylabel=\"True Positive Rate (Recall)\",\n",
        "          title=\"Receiver operating characteristic_B1\")\n",
        "ax[0].legend(loc=\"lower right\")\n",
        "ax[0].grid(True)\n",
        "\n",
        "## Plot precision-recall curve\n",
        "for i in range(len(classes)):\n",
        "    precision, recall, thresholds = metrics.precision_recall_curve(\n",
        "                 y_test_array[:,i], predictions[:,i])\n",
        "    ax[1].plot(recall, precision, lw=3,\n",
        "               label='{0} (area={1:0.2f})'.format(classes[i],\n",
        "                                  metrics.auc(recall, precision))\n",
        "              )\n",
        "ax[1].set(xlim=[0.0,1.05], ylim=[0.0,1.05], xlabel='Recall',\n",
        "          ylabel=\"Precision\", title=\"Precision-Recall curve_B1\")\n",
        "ax[1].legend(loc=\"best\")\n",
        "ax[1].grid(True)\n",
        "plt.show()\"\"\""
      ],
      "execution_count": null,
      "outputs": [
        {
          "output_type": "stream",
          "name": "stdout",
          "text": [
            "Accuracy: 55.54\n",
            "Detail:\n",
            "              precision    recall  f1-score   support\n",
            "\n",
            "           0       0.64      0.70      0.67      1118\n",
            "           1       0.36      0.30      0.32       625\n",
            "\n",
            "    accuracy                           0.56      1743\n",
            "   macro avg       0.50      0.50      0.50      1743\n",
            "weighted avg       0.54      0.56      0.54      1743\n",
            "\n"
          ]
        },
        {
          "output_type": "execute_result",
          "data": {
            "application/vnd.google.colaboratory.intrinsic+json": {
              "type": "string"
            },
            "text/plain": [
              "'## Plot roc\\nfor i in range(len(classes)):\\n    fpr, tpr, thresholds = metrics.roc_curve(y_test_array[:,i],  \\n                           predictions[:,i])\\n    ax[0].plot(fpr, tpr, lw=3, \\n              label=\\'{0} (area={1:0.2f})\\'.format(classes[i], \\n                              metrics.auc(fpr, tpr))\\n               )\\nax[0].plot([0,1], [0,1], color=\\'green\\', lw=3, linestyle=\\'--\\')\\nax[0].set(xlim=[-0.05,1.0], ylim=[0.0,1.05], \\n          xlabel=\\'False Positive Rate\\', \\n          ylabel=\"True Positive Rate (Recall)\", \\n          title=\"Receiver operating characteristic_B1\")\\nax[0].legend(loc=\"lower right\")\\nax[0].grid(True)\\n    \\n## Plot precision-recall curve\\nfor i in range(len(classes)):\\n    precision, recall, thresholds = metrics.precision_recall_curve(\\n                 y_test_array[:,i], predictions[:,i])\\n    ax[1].plot(recall, precision, lw=3, \\n               label=\\'{0} (area={1:0.2f})\\'.format(classes[i], \\n                                  metrics.auc(recall, precision))\\n              )\\nax[1].set(xlim=[0.0,1.05], ylim=[0.0,1.05], xlabel=\\'Recall\\', \\n          ylabel=\"Precision\", title=\"Precision-Recall curve_B1\")\\nax[1].legend(loc=\"best\")\\nax[1].grid(True)\\nplt.show()'"
            ]
          },
          "metadata": {},
          "execution_count": 24
        },
        {
          "output_type": "display_data",
          "data": {
            "image/png": "[encoded data removed]",
            "text/plain": [
              "<Figure size 432x288 with 1 Axes>"
            ]
          },
          "metadata": {
            "needs_background": "light"
          }
        }
      ]
    },
    {
      "cell_type": "code",
      "metadata": {
        "colab": {
          "base_uri": "https://localhost:8080/"
        },
        "id": "hq6eeqczGk5F",
        "outputId": "109b3515-48b8-4c83-cbbb-b4336508ad99"
      },
      "source": [
        "print(\"Length of the Training Set : {}\".format(len(x_train)))\n",
        "print(\"Length of the Validation Set : {}\".format(len(x_val)))\n",
        "print(\"Length of the Training Set : {}\".format(len(y_train)))\n",
        "print(\"Length of the Training Set : {}\".format(len(y_val)))"
      ],
      "execution_count": null,
      "outputs": [
        {
          "output_type": "stream",
          "name": "stdout",
          "text": [
            "Length of the Training Set : 3537\n",
            "Length of the Validation Set : 1743\n",
            "Length of the Training Set : 3537\n",
            "Length of the Training Set : 1743\n"
          ]
        }
      ]
    },
    {
      "cell_type": "code",
      "metadata": {
        "colab": {
          "base_uri": "https://localhost:8080/"
        },
        "id": "JwufULmCGn4i",
        "outputId": "c8c33716-437e-4d79-c371-3dc3a726c69f"
      },
      "source": [
        "def unfreeze_model(model):\n",
        "    # We unfreeze the top 20 layers while leaving BatchNorm layers frozen\n",
        "    for layer in model.layers[-20:]:\n",
        "        if not isinstance(layer, layers.BatchNormalization):\n",
        "            layer.trainable = True\n",
        "    mse = tf.keras.losses.MeanSquaredLogarithmicError()\n",
        "\n",
        "    optimizer = tf.keras.optimizers.Adam(learning_rate=1e-4)\n",
        "    model.compile(\n",
        "        optimizer=optimizer, loss= mse, metrics=[\"accuracy\"]\n",
        "    )\n",
        "\n",
        "unfreeze_model(model)\n",
        "\n",
        "epochs = 10  # @param {type: \"slider\", min:8, max:50}\n",
        "#hist = model.fit(ds_train, epochs=epochs, validation_data=ds_test, verbose=2)\n",
        "hist = model.fit(x_train,y_train,\n",
        "                  epochs= epochs,\n",
        "                  #initial_epoch=hist.epoch[-1],\n",
        "                  validation_data=(x_val, y_val))\n"
      ],
      "execution_count": null,
      "outputs": [
        {
          "output_type": "stream",
          "name": "stdout",
          "text": [
            "Epoch 1/10\n",
            "111/111 [==============================] - 54s 351ms/step - loss: 0.1121 - accuracy: 0.6308 - val_loss: 0.1433 - val_accuracy: 0.8594\n",
            "Epoch 2/10\n",
            "111/111 [==============================] - 34s 311ms/step - loss: 0.1093 - accuracy: 0.6353 - val_loss: 0.1419 - val_accuracy: 0.8537\n",
            "Epoch 3/10\n",
            "111/111 [==============================] - 34s 312ms/step - loss: 0.1048 - accuracy: 0.6613 - val_loss: 0.1492 - val_accuracy: 0.9122\n",
            "Epoch 4/10\n",
            "111/111 [==============================] - 35s 312ms/step - loss: 0.1056 - accuracy: 0.6517 - val_loss: 0.1425 - val_accuracy: 0.8199\n",
            "Epoch 5/10\n",
            "111/111 [==============================] - 35s 312ms/step - loss: 0.1057 - accuracy: 0.6647 - val_loss: 0.1398 - val_accuracy: 0.7722\n",
            "Epoch 6/10\n",
            "111/111 [==============================] - 35s 312ms/step - loss: 0.1021 - accuracy: 0.6692 - val_loss: 0.1372 - val_accuracy: 0.7022\n",
            "Epoch 7/10\n",
            "111/111 [==============================] - 34s 311ms/step - loss: 0.1007 - accuracy: 0.6723 - val_loss: 0.1447 - val_accuracy: 0.8566\n",
            "Epoch 8/10\n",
            "111/111 [==============================] - 35s 312ms/step - loss: 0.1005 - accuracy: 0.6698 - val_loss: 0.1385 - val_accuracy: 0.7487\n",
            "Epoch 9/10\n",
            "111/111 [==============================] - 35s 312ms/step - loss: 0.0982 - accuracy: 0.6873 - val_loss: 0.1408 - val_accuracy: 0.7619\n",
            "Epoch 10/10\n",
            "111/111 [==============================] - 35s 312ms/step - loss: 0.0974 - accuracy: 0.6930 - val_loss: 0.1419 - val_accuracy: 0.8044\n"
          ]
        }
      ]
    },
    {
      "cell_type": "code",
      "metadata": {
        "id": "tn58emBBGpvA",
        "colab": {
          "base_uri": "https://localhost:8080/",
          "height": 513
        },
        "outputId": "849fe8df-be7e-4681-ead4-759b05777ace"
      },
      "source": [
        "acc = hist.history['accuracy']\n",
        "val_acc = hist.history['val_accuracy']\n",
        "\n",
        "loss = hist.history['loss']\n",
        "val_loss = hist.history['val_loss']\n",
        "\n",
        "plt.figure(figsize=(8, 8))\n",
        "plt.subplot(2, 1, 1)\n",
        "plt.plot(acc, label='Training Accuracy')\n",
        "plt.plot(val_acc, label='Validation Accuracy')\n",
        "plt.legend(loc='lower right')\n",
        "plt.ylabel('Accuracy')\n",
        "plt.ylim([min(plt.ylim()),1])\n",
        "plt.title('Training and Validation Accuracy')\n",
        "\n",
        "plt.subplot(2, 1, 2)\n",
        "plt.plot(loss, label='Training Loss')\n",
        "plt.plot(val_loss, label='Validation Loss')\n",
        "plt.legend(loc='upper right')\n",
        "plt.ylabel('Cross Entropy')\n",
        "plt.ylim([0,1.0])\n",
        "plt.title('Training and Validation Loss')\n",
        "plt.xlabel('epoch')\n",
        "plt.show()"
      ],
      "execution_count": null,
      "outputs": [
        {
          "output_type": "display_data",
          "data": {
            "image/png": "[encoded data removed]",
            "text/plain": [
              "<Figure size 576x576 with 2 Axes>"
            ]
          },
          "metadata": {
            "needs_background": "light"
          }
        }
      ]
    },
    {
      "cell_type": "code",
      "metadata": {
        "id": "_CfwRxQlGr6o",
        "colab": {
          "base_uri": "https://localhost:8080/"
        },
        "outputId": "c140c490-2d21-4d4b-9435-e10197448838"
      },
      "source": [
        "predictions1 = model.predict(x_val)\n",
        "y_pred = np.argmax(predictions1, axis=1)\n",
        "\n",
        "score = predictions1[0]\n",
        "print(100 * score)\n"
      ],
      "execution_count": null,
      "outputs": [
        {
          "output_type": "stream",
          "name": "stdout",
          "text": [
            "[96.67704    1.2309711]\n"
          ]
        }
      ]
    },
    {
      "cell_type": "code",
      "metadata": {
        "id": "Pie5qGh3GvUZ",
        "colab": {
          "base_uri": "https://localhost:8080/"
        },
        "outputId": "98c00576-6e02-4e76-9d01-a9470676d41c"
      },
      "source": [
        "mt = confusion_matrix(y_val, y_pred)\n",
        "print(\"False positive rate : %f %%\" % ((mt[0][1] / float(sum(mt[0])))*100))\n",
        "print('False negative rate : %f %%' % ( (mt[1][0] / float(sum(mt[1]))*100)))"
      ],
      "execution_count": null,
      "outputs": [
        {
          "output_type": "stream",
          "name": "stdout",
          "text": [
            "False positive rate : 19.856887 %\n",
            "False negative rate : 80.960000 %\n"
          ]
        }
      ]
    },
    {
      "cell_type": "code",
      "metadata": {
        "id": "_FN79dvLGxbP",
        "colab": {
          "base_uri": "https://localhost:8080/"
        },
        "outputId": "6f298078-8f17-4985-dbfd-e5ff79cc1fb4"
      },
      "source": [
        "print(metrics.classification_report(y_val, y_pred))"
      ],
      "execution_count": null,
      "outputs": [
        {
          "output_type": "stream",
          "name": "stdout",
          "text": [
            "              precision    recall  f1-score   support\n",
            "\n",
            "           0       0.64      0.80      0.71      1118\n",
            "           1       0.35      0.19      0.25       625\n",
            "\n",
            "    accuracy                           0.58      1743\n",
            "   macro avg       0.49      0.50      0.48      1743\n",
            "weighted avg       0.54      0.58      0.54      1743\n",
            "\n"
          ]
        }
      ]
    },
    {
      "cell_type": "code",
      "metadata": {
        "id": "2BWOAMo8GzBS",
        "colab": {
          "base_uri": "https://localhost:8080/",
          "height": 819
        },
        "outputId": "a7cb3866-4b1c-4a8d-82ad-33d84d7b1bd3"
      },
      "source": [
        "import seaborn as sns## for processing\n",
        "\n",
        "classes = np.unique(y_val)\n",
        "y_test_array = pd.get_dummies(y_val, drop_first=False).values\n",
        "\n",
        "## Accuracy, Precision, Recall\n",
        "accuracy = metrics.accuracy_score(y_val, y_pred)\n",
        "#auc = metrics.roc_auc_score(y_test, predicted_prob, multi_class=\"ovr\")\n",
        "print(\"Accuracy:\",  round(accuracy,2))\n",
        "#print(\"Auc:\", round(auc,2))\n",
        "print(\"Detail:\")\n",
        "print(metrics.classification_report(y_val, y_pred))\n",
        "\n",
        "## Plot confusion matrix\n",
        "cm = metrics.confusion_matrix(y_val, y_pred)\n",
        "fig, ax = plt.subplots()\n",
        "sns.heatmap(cm, annot=True, fmt='d', ax=ax, cmap=plt.cm.Blues,\n",
        "            cbar=False)\n",
        "ax.set(xlabel=\"Pred\", ylabel=\"True\", xticklabels=classes,\n",
        "       yticklabels=classes, title=\"Confusion matrix\")\n",
        "plt.yticks(rotation=0)\n",
        "\n",
        "fig, ax = plt.subplots(nrows=1, ncols=2,figsize=(15,5))\n",
        "\n",
        "## Plot roc\n",
        "for i in range(len(classes)):\n",
        "    fpr, tpr, thresholds = metrics.roc_curve(y_test_array[:,i],\n",
        "                           predictions[:,i])\n",
        "    ax[0].plot(fpr, tpr, lw=3,\n",
        "              label='{0} (area={1:0.2f})'.format(classes[i],\n",
        "                              metrics.auc(fpr, tpr))\n",
        "               )\n",
        "ax[0].plot([0,1], [0,1], color='green', lw=3, linestyle='--')\n",
        "ax[0].set(xlim=[-0.05,1.0], ylim=[0.0,1.05],\n",
        "          xlabel='False Positive Rate',\n",
        "          ylabel=\"True Positive Rate (Recall)\",\n",
        "          title=\"Receiver operating characteristic\")\n",
        "ax[0].legend(loc=\"lower right\")\n",
        "ax[0].grid(True)\n",
        "\n",
        "## Plot precision-recall curve\n",
        "for i in range(len(classes)):\n",
        "    precision, recall, thresholds = metrics.precision_recall_curve(\n",
        "                 y_test_array[:,i], predictions[:,i])\n",
        "    ax[1].plot(recall, precision, lw=3,\n",
        "               label='{0} (area={1:0.2f})'.format(classes[i],\n",
        "                                  metrics.auc(recall, precision))\n",
        "              )\n",
        "ax[1].set(xlim=[0.0,1.05], ylim=[0.0,1.05], xlabel='Recall',\n",
        "          ylabel=\"Precision\", title=\"Precision-Recall curve\")\n",
        "ax[1].legend(loc=\"best\")\n",
        "ax[1].grid(True)\n",
        "plt.show()"
      ],
      "execution_count": null,
      "outputs": [
        {
          "output_type": "stream",
          "name": "stdout",
          "text": [
            "Accuracy: 0.58\n",
            "Detail:\n",
            "              precision    recall  f1-score   support\n",
            "\n",
            "           0       0.64      0.80      0.71      1118\n",
            "           1       0.35      0.19      0.25       625\n",
            "\n",
            "    accuracy                           0.58      1743\n",
            "   macro avg       0.49      0.50      0.48      1743\n",
            "weighted avg       0.54      0.58      0.54      1743\n",
            "\n"
          ]
        },
        {
          "output_type": "display_data",
          "data": {
            "image/png": "[encoded data removed]",
            "text/plain": [
              "<Figure size 432x288 with 1 Axes>"
            ]
          },
          "metadata": {
            "needs_background": "light"
          }
        },
        {
          "output_type": "display_data",
          "data": {
            "image/png": "[encoded data removed]",
            "text/plain": [
              "<Figure size 1080x360 with 2 Axes>"
            ]
          },
          "metadata": {
            "needs_background": "light"
          }
        }
      ]
    },
    {
      "cell_type": "code",
      "metadata": {
        "id": "Vqn11uoYG2y-",
        "colab": {
          "base_uri": "https://localhost:8080/"
        },
        "outputId": "fc6f0804-f9c7-46cb-ff02-0bb23b5e20af"
      },
      "source": [
        "histt1 = model.evaluate(x_train,y_train)"
      ],
      "execution_count": null,
      "outputs": [
        {
          "output_type": "stream",
          "name": "stdout",
          "text": [
            "111/111 [==============================] - 25s 196ms/step - loss: 0.0925 - accuracy: 0.7060\n"
          ]
        }
      ]
    },
    {
      "cell_type": "code",
      "metadata": {
        "id": "f9-5ggg6G3W7",
        "colab": {
          "base_uri": "https://localhost:8080/"
        },
        "outputId": "0192211e-e9d1-444f-acd1-6db6d982404a"
      },
      "source": [
        "histt2 = model.evaluate(x_val,y_val)"
      ],
      "execution_count": null,
      "outputs": [
        {
          "output_type": "stream",
          "name": "stdout",
          "text": [
            "55/55 [==============================] - 11s 195ms/step - loss: 0.1419 - accuracy: 0.8044\n"
          ]
        }
      ]
    }
  ]
}