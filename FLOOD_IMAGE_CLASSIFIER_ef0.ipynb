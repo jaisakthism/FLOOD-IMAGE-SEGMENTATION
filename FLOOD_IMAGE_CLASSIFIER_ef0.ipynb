{
  "nbformat": 4,
  "nbformat_minor": 0,
  "metadata": {
    "accelerator": "GPU",
    "colab": {
      "provenance": []
    },
    "kernelspec": {
      "display_name": "Python 3",
      "name": "python3"
    },
    "language_info": {
      "name": "python"
    }
  },
  "cells": [
    {
      "cell_type": "code",
      "metadata": {
        "id": "Voopl8Ra3-pb"
      },
      "source": [
        "# Loading required libraries and functions\n",
        "import os\n",
        "import shutil\n",
        "import random\n",
        "import itertools\n",
        "%matplotlib inline\n",
        "import numpy as np\n",
        "import tensorflow as tf\n",
        "import matplotlib as mpl\n",
        "from keras import backend\n",
        "from tensorflow import keras\n",
        "import matplotlib.pyplot as plt\n",
        "from sklearn.metrics import f1_score\n",
        "from sklearn.metrics import accuracy_score\n",
        "from tensorflow.keras.models import Model\n",
        "from tensorflow.keras.optimizers import Adam\n",
        "from sklearn.metrics import confusion_matrix\n",
        "from keras.applications import imagenet_utils\n",
        "from tensorflow.keras.preprocessing import image\n",
        "from tensorflow.keras.layers import Dense, Activation\n",
        "from sklearn.metrics import precision_score, recall_score\n",
        "from tensorflow.keras.metrics import categorical_crossentropy\n",
        "from tensorflow.keras.preprocessing.image import ImageDataGenerator\n",
        "from tensorflow.keras.applications.mobilenet import decode_predictions, preprocess_input"
      ],
      "execution_count": null,
      "outputs": []
    },
    {
      "cell_type": "code",
      "metadata": {
        "colab": {
          "base_uri": "https://localhost:8080/"
        },
        "id": "khvIbjzq26lM",
        "outputId": "692473f8-5d62-4437-ad07-ab9b2c91141e"
      },
      "source": [
        "from google.colab import drive\n",
        "drive.mount('/content/drive')"
      ],
      "execution_count": null,
      "outputs": [
        {
          "output_type": "stream",
          "name": "stdout",
          "text": [
            "Mounted at /content/drive\n"
          ]
        }
      ]
    },
    {
      "cell_type": "code",
      "metadata": {
        "id": "na2z8zaMe4sU"
      },
      "source": [
        "import tensorflow as tf\n",
        "import glob\n",
        "import numpy as np\n",
        "from sklearn.model_selection import train_test_split\n",
        "import PIL.Image\n",
        "import cv2\n",
        "import random\n",
        "from scipy import ndarray\n",
        "import skimage as sk\n",
        "from skimage import transform\n",
        "from skimage import util\n",
        "import random\n",
        "from keras import backend as K\n",
        "import os\n",
        "from keras.layers import *\n",
        "import re\n",
        "import matplotlib.pyplot as plt\n",
        "import zipfile\n",
        "import pathlib\n",
        "import PIL\n",
        "import pandas as pd"
      ],
      "execution_count": null,
      "outputs": []
    },
    {
      "cell_type": "code",
      "metadata": {
        "id": "U1Fe2FvyfGs5"
      },
      "source": [
        "numbers = re.compile(r'(\\d+)')\n",
        "def numericalSort(value):\n",
        " parts = numbers.split(value)\n",
        " parts[1::2] = map(int, parts[1::2])\n",
        " return parts"
      ],
      "execution_count": null,
      "outputs": []
    },
    {
      "cell_type": "code",
      "metadata": {
        "id": "aa_jho7aKCOh",
        "colab": {
          "base_uri": "https://localhost:8080/"
        },
        "outputId": "38d4a5c3-794b-4a70-8e45-635a08cf8543"
      },
      "source": [
        "from PIL import Image, ImageOps\n",
        "filelist_trainx = sorted(glob.glob(\"/content/drive/MyDrive/social_media_images/devset_images_zipfile/devset_images/*/*\"))\n",
        "X_train = np.array([np.array(PIL.Image.open(fname).resize((224,224),PIL.Image.ANTIALIAS)) for fname in filelist_trainx])\n",
        "X_train.shape"
      ],
      "execution_count": null,
      "outputs": [
        {
          "output_type": "execute_result",
          "data": {
            "text/plain": [
              "(5280, 224, 224, 3)"
            ]
          },
          "metadata": {},
          "execution_count": 4
        }
      ]
    },
    {
      "cell_type": "code",
      "metadata": {
        "colab": {
          "base_uri": "https://localhost:8080/"
        },
        "id": "y20yxXY4wiHT",
        "outputId": "9bebc882-037e-4da3-bad4-2ca8c9681313"
      },
      "source": [
        "X_train.shape"
      ],
      "execution_count": null,
      "outputs": [
        {
          "output_type": "execute_result",
          "data": {
            "text/plain": [
              "(5280, 224, 224, 3)"
            ]
          },
          "metadata": {},
          "execution_count": 5
        }
      ]
    },
    {
      "cell_type": "code",
      "metadata": {
        "colab": {
          "base_uri": "https://localhost:8080/"
        },
        "id": "uzEqvKzF6VZW",
        "outputId": "fee7db96-5d7c-4a97-b92a-4dc5630e5e32"
      },
      "source": [
        "from tensorflow.keras.utils import to_categorical\n",
        "Y_train  = pd.read_csv(\"/content/drive/MyDrive/social_media_images/devset_images_zipfile/devset_images_gt.csv\", header = None)\n",
        "Y_train = Y_train.iloc[:,1].values\n",
        "Y_train = to_categorical(Y_train)\n",
        "Y_train = Y_train.astype('float32')\n",
        "#Y_train.index = Y_train.index + 1\n",
        "#tf.convert_to_tensor(Y_train)\n",
        "Y_train = np.array(Y_train)\n",
        "print(Y_train)"
      ],
      "execution_count": null,
      "outputs": [
        {
          "output_type": "stream",
          "name": "stdout",
          "text": [
            "[[1. 0.]\n",
            " [1. 0.]\n",
            " [1. 0.]\n",
            " ...\n",
            " [1. 0.]\n",
            " [1. 0.]\n",
            " [1. 0.]]\n"
          ]
        }
      ]
    },
    {
      "cell_type": "code",
      "metadata": {
        "id": "GWaO-fvv_WZR"
      },
      "source": [
        "x_train, x_val, y_train, y_val = train_test_split(X_train, Y_train, test_size = 0.33, random_state = 54)\n"
      ],
      "execution_count": null,
      "outputs": []
    },
    {
      "cell_type": "code",
      "metadata": {
        "id": "Yal83Bdc44Sl"
      },
      "source": [
        "from tensorflow.keras.applications import EfficientNetB0"
      ],
      "execution_count": null,
      "outputs": []
    },
    {
      "cell_type": "code",
      "metadata": {
        "id": "b80w7PAbyd0Y"
      },
      "source": [
        "from tensorflow.keras.models import Sequential\n",
        "from tensorflow.keras import layers"
      ],
      "execution_count": null,
      "outputs": []
    },
    {
      "cell_type": "code",
      "metadata": {
        "id": "b2RDOrje5Npy"
      },
      "source": [
        "\n",
        "\n",
        "img_augmentation = Sequential(\n",
        "    [\n",
        "        layers.RandomRotation(factor=0.15),\n",
        "        layers.RandomTranslation(height_factor=0.1, width_factor=0.1),\n",
        "        layers.RandomFlip(),\n",
        "        layers.RandomContrast(factor=0.1),\n",
        "    ],\n",
        "    name=\"img_augmentation\",\n",
        ")"
      ],
      "execution_count": null,
      "outputs": []
    },
    {
      "cell_type": "code",
      "metadata": {
        "id": "RR-RDeHd5UTs"
      },
      "source": [
        "img_height = 224\n",
        "img_width = 224"
      ],
      "execution_count": null,
      "outputs": []
    },
    {
      "cell_type": "code",
      "metadata": {
        "id": "dYseDrcq5Uco"
      },
      "source": [
        "preprocess_input = tf.keras.applications.mobilenet_v2.preprocess_input"
      ],
      "execution_count": null,
      "outputs": []
    },
    {
      "cell_type": "code",
      "metadata": {
        "id": "JRSvDVSG5bbh"
      },
      "source": [
        "def build_model(num_classes):\n",
        "    inputs = layers.Input(shape=(img_height, img_width,3))\n",
        "    x = img_augmentation(inputs)\n",
        "    model = EfficientNetB0(include_top=False, input_tensor=x, weights=\"imagenet\")\n",
        "\n",
        "    # Freeze the pretrained weights\n",
        "    model.trainable = False\n",
        "\n",
        "    # Rebuild top\n",
        "    x = layers.GlobalAveragePooling2D(name=\"avg_pool\")(model.output)\n",
        "    x = layers.BatchNormalization()(x)\n",
        "\n",
        "    top_dropout_rate = 0.2\n",
        "    x = layers.Dropout(top_dropout_rate, name=\"top_dropout\")(x)\n",
        "    outputs = layers.Dense(NUM_CLASSES, activation=\"sigmoid\", name=\"pred\")(x)\n",
        "\n",
        "    # Compile\n",
        "    model = tf.keras.Model(inputs, outputs, name=\"EfficientNet\")\n",
        "    optimizer = tf.keras.optimizers.Adam(learning_rate=1e-3)\n",
        "    mse = tf.keras.losses.MeanSquaredLogarithmicError()\n",
        "    cc = \"categorical_crossentropy\"\n",
        "    sce = tf.keras.losses.MeanSquaredError()\n",
        "    cosine_loss = tf.keras.losses.CosineSimilarity(axis=1)\n",
        "    model.compile(\n",
        "        optimizer= optimizer, loss= mse, metrics=[\"accuracy\"]\n",
        "    )\n",
        "    return model\n"
      ],
      "execution_count": null,
      "outputs": []
    },
    {
      "cell_type": "code",
      "metadata": {
        "colab": {
          "base_uri": "https://localhost:8080/"
        },
        "id": "Bw7DPy8C5bhK",
        "outputId": "fffb2431-733b-462f-c3e5-83c232937a35"
      },
      "source": [
        "import tensorflow as tf\n",
        "\n",
        "try:\n",
        "    tpu = tf.distribute.cluster_resolver.TPUClusterResolver()  # TPU detection\n",
        "    print(\"Running on TPU \", tpu.cluster_spec().as_dict()[\"worker\"])\n",
        "    tf.config.experimental_connect_to_cluster(tpu)\n",
        "    tf.tpu.experimental.initialize_tpu_system(tpu)\n",
        "    strategy = tf.distribute.TPUStrategy(tpu)\n",
        "except ValueError:\n",
        "    print(\"Not connected to a TPU runtime. Using CPU/GPU strategy\")\n",
        "    strategy = tf.distribute.MirroredStrategy()\n"
      ],
      "execution_count": null,
      "outputs": [
        {
          "output_type": "stream",
          "name": "stdout",
          "text": [
            "Not connected to a TPU runtime. Using CPU/GPU strategy\n",
            "INFO:tensorflow:Using MirroredStrategy with devices ('/job:localhost/replica:0/task:0/device:GPU:0',)\n"
          ]
        },
        {
          "output_type": "stream",
          "name": "stderr",
          "text": [
            "INFO:tensorflow:Using MirroredStrategy with devices ('/job:localhost/replica:0/task:0/device:GPU:0',)\n"
          ]
        }
      ]
    },
    {
      "cell_type": "code",
      "metadata": {
        "colab": {
          "base_uri": "https://localhost:8080/"
        },
        "id": "7mPTXEHX5k_Q",
        "outputId": "49e0066e-ce8d-48c9-d33e-1b7c0f2bba7c"
      },
      "source": [
        "NUM_CLASSES = 2\n",
        "with strategy.scope():\n",
        "    model = build_model(num_classes=NUM_CLASSES)\n",
        "\n",
        "epochs = 20 #@param {type:\"slider\", min:8, max:100, step:1}\n",
        "#hist = model.fit(ds_train, epochs=epochs, validation_data=ds_test, verbose=2)\n",
        "hist = model.fit(x_train,y_train,\n",
        "                  epochs= epochs,\n",
        "                  #nitial_epoch=hist.epoch[-1],\n",
        "                  validation_data=(x_val, y_val))"
      ],
      "execution_count": null,
      "outputs": [
        {
          "output_type": "stream",
          "name": "stdout",
          "text": [
            "Epoch 1/20\n",
            "111/111 [==============================] - 36s 235ms/step - loss: 0.1387 - accuracy: 0.5813 - val_loss: 0.1203 - val_accuracy: 0.6391\n",
            "Epoch 2/20\n",
            "111/111 [==============================] - 22s 195ms/step - loss: 0.1302 - accuracy: 0.6031 - val_loss: 0.1224 - val_accuracy: 0.6288\n",
            "Epoch 3/20\n",
            "111/111 [==============================] - 22s 195ms/step - loss: 0.1254 - accuracy: 0.6107 - val_loss: 0.1245 - val_accuracy: 0.6294\n",
            "Epoch 4/20\n",
            "111/111 [==============================] - 22s 195ms/step - loss: 0.1232 - accuracy: 0.6127 - val_loss: 0.1263 - val_accuracy: 0.6145\n",
            "Epoch 5/20\n",
            "111/111 [==============================] - 22s 195ms/step - loss: 0.1206 - accuracy: 0.6121 - val_loss: 0.1274 - val_accuracy: 0.5846\n",
            "Epoch 6/20\n",
            "111/111 [==============================] - 22s 195ms/step - loss: 0.1195 - accuracy: 0.6234 - val_loss: 0.1245 - val_accuracy: 0.6179\n",
            "Epoch 7/20\n",
            "111/111 [==============================] - 22s 195ms/step - loss: 0.1158 - accuracy: 0.6313 - val_loss: 0.1289 - val_accuracy: 0.6190\n",
            "Epoch 8/20\n",
            "111/111 [==============================] - 22s 194ms/step - loss: 0.1165 - accuracy: 0.6260 - val_loss: 0.1244 - val_accuracy: 0.5909\n",
            "Epoch 9/20\n",
            "111/111 [==============================] - 22s 195ms/step - loss: 0.1138 - accuracy: 0.6347 - val_loss: 0.1257 - val_accuracy: 0.5921\n",
            "Epoch 10/20\n",
            "111/111 [==============================] - 22s 194ms/step - loss: 0.1158 - accuracy: 0.6237 - val_loss: 0.1257 - val_accuracy: 0.6168\n",
            "Epoch 11/20\n",
            "111/111 [==============================] - 22s 195ms/step - loss: 0.1126 - accuracy: 0.6339 - val_loss: 0.1278 - val_accuracy: 0.6282\n",
            "Epoch 12/20\n",
            "111/111 [==============================] - 22s 195ms/step - loss: 0.1134 - accuracy: 0.6342 - val_loss: 0.1270 - val_accuracy: 0.5812\n",
            "Epoch 13/20\n",
            "111/111 [==============================] - 22s 195ms/step - loss: 0.1127 - accuracy: 0.6358 - val_loss: 0.1257 - val_accuracy: 0.5932\n",
            "Epoch 14/20\n",
            "111/111 [==============================] - 22s 196ms/step - loss: 0.1134 - accuracy: 0.6245 - val_loss: 0.1259 - val_accuracy: 0.6116\n",
            "Epoch 15/20\n",
            "111/111 [==============================] - 22s 194ms/step - loss: 0.1112 - accuracy: 0.6438 - val_loss: 0.1253 - val_accuracy: 0.5823\n",
            "Epoch 16/20\n",
            "111/111 [==============================] - 22s 194ms/step - loss: 0.1124 - accuracy: 0.6310 - val_loss: 0.1265 - val_accuracy: 0.5846\n",
            "Epoch 17/20\n",
            "111/111 [==============================] - 21s 194ms/step - loss: 0.1125 - accuracy: 0.6358 - val_loss: 0.1247 - val_accuracy: 0.5841\n",
            "Epoch 18/20\n",
            "111/111 [==============================] - 21s 194ms/step - loss: 0.1107 - accuracy: 0.6384 - val_loss: 0.1239 - val_accuracy: 0.5984\n",
            "Epoch 19/20\n",
            "111/111 [==============================] - 21s 194ms/step - loss: 0.1118 - accuracy: 0.6296 - val_loss: 0.1247 - val_accuracy: 0.6047\n",
            "Epoch 20/20\n",
            "111/111 [==============================] - 21s 194ms/step - loss: 0.1116 - accuracy: 0.6336 - val_loss: 0.1237 - val_accuracy: 0.6133\n"
          ]
        }
      ]
    },
    {
      "cell_type": "code",
      "metadata": {
        "colab": {
          "base_uri": "https://localhost:8080/"
        },
        "id": "lSCN_Hc27qqb",
        "outputId": "ce5f8d29-c268-4bb9-bd26-667fc2bb448c"
      },
      "source": [
        "histt = model.evaluate(x_train,y_train)"
      ],
      "execution_count": null,
      "outputs": [
        {
          "output_type": "stream",
          "name": "stdout",
          "text": [
            "111/111 [==============================] - 14s 128ms/step - loss: 0.1119 - accuracy: 0.6466\n"
          ]
        }
      ]
    },
    {
      "cell_type": "code",
      "metadata": {
        "colab": {
          "base_uri": "https://localhost:8080/"
        },
        "id": "dOF4a0E074f6",
        "outputId": "e334ef4b-fe25-42e1-b725-2177ec16548c"
      },
      "source": [
        "histvv = model.evaluate(x_val,y_val)"
      ],
      "execution_count": null,
      "outputs": [
        {
          "output_type": "stream",
          "name": "stdout",
          "text": [
            "55/55 [==============================] - 7s 127ms/step - loss: 0.1237 - accuracy: 0.6133\n"
          ]
        }
      ]
    },
    {
      "cell_type": "code",
      "metadata": {
        "colab": {
          "base_uri": "https://localhost:8080/",
          "height": 513
        },
        "id": "c7Dc3eiSovzK",
        "outputId": "9a513638-2c7c-4a58-caa6-7549666b7c97"
      },
      "source": [
        "acc = hist.history['accuracy']\n",
        "val_acc = hist.history['val_accuracy']\n",
        "\n",
        "loss = hist.history['loss']\n",
        "val_loss = hist.history['val_loss']\n",
        "\n",
        "plt.figure(figsize=(8, 8))\n",
        "plt.subplot(2, 1, 1)\n",
        "plt.plot(acc, label='Training Accuracy')\n",
        "plt.plot(val_acc, label='Validation Accuracy')\n",
        "plt.legend(loc='lower right')\n",
        "plt.ylabel('Accuracy')\n",
        "plt.ylim([min(plt.ylim()),1])\n",
        "plt.title('Training and Validation Accuracy_B0')\n",
        "\n",
        "plt.subplot(2, 1, 2)\n",
        "plt.plot(loss, label='Training Loss')\n",
        "plt.plot(val_loss, label='Validation Loss')\n",
        "plt.legend(loc='upper right')\n",
        "plt.ylabel('Cross Entropy')\n",
        "plt.ylim([0,1.0])\n",
        "plt.title('Training and Validation Loss_B0')\n",
        "plt.xlabel('epoch')\n",
        "plt.show()"
      ],
      "execution_count": null,
      "outputs": [
        {
          "output_type": "display_data",
          "data": {
            "image/png": "[encoded data removed]",
            "text/plain": [
              "<Figure size 576x576 with 2 Axes>"
            ]
          },
          "metadata": {
            "needs_background": "light"
          }
        }
      ]
    },
    {
      "cell_type": "code",
      "metadata": {
        "id": "d5gK43zRo3tS"
      },
      "source": [
        "predictions = model.predict(x_val)\n",
        "y_pred = np.argmax(predictions, axis = 1)"
      ],
      "execution_count": null,
      "outputs": []
    },
    {
      "cell_type": "code",
      "metadata": {
        "id": "YXxEc6fLY803"
      },
      "source": [
        "y_val = np.argmax(y_val,axis =1)\n"
      ],
      "execution_count": null,
      "outputs": []
    },
    {
      "cell_type": "code",
      "metadata": {
        "colab": {
          "base_uri": "https://localhost:8080/"
        },
        "id": "VykJcGy7pTfR",
        "outputId": "b7e22313-c9e5-4040-c006-090d2afee9a0"
      },
      "source": [
        "from sklearn.metrics import confusion_matrix\n",
        "\n",
        "mt = confusion_matrix(y_val, y_pred)\n",
        "print(\"False positive rate : %f %%\" % ((mt[0][1] / float(sum(mt[0])))*100))\n",
        "print('False negative rate : %f %%' % ( (mt[1][0] / float(sum(mt[1]))*100)))\n"
      ],
      "execution_count": null,
      "outputs": [
        {
          "output_type": "stream",
          "name": "stdout",
          "text": [
            "False positive rate : 8.407871 %\n",
            "False negative rate : 92.800000 %\n"
          ]
        }
      ]
    },
    {
      "cell_type": "code",
      "metadata": {
        "colab": {
          "base_uri": "https://localhost:8080/"
        },
        "id": "3UL5eKnf_Apn",
        "outputId": "6a65516b-d035-4aa3-c113-816958ef56d4"
      },
      "source": [
        "import sklearn.metrics as metrics\n",
        "\n",
        "print(metrics.classification_report(y_val, y_pred))"
      ],
      "execution_count": null,
      "outputs": [
        {
          "output_type": "stream",
          "name": "stdout",
          "text": [
            "              precision    recall  f1-score   support\n",
            "\n",
            "           0       0.64      0.92      0.75      1118\n",
            "           1       0.32      0.07      0.12       625\n",
            "\n",
            "    accuracy                           0.61      1743\n",
            "   macro avg       0.48      0.49      0.44      1743\n",
            "weighted avg       0.53      0.61      0.52      1743\n",
            "\n"
          ]
        }
      ]
    },
    {
      "cell_type": "code",
      "metadata": {
        "colab": {
          "base_uri": "https://localhost:8080/",
          "height": 819
        },
        "id": "OR6CvXLa_S0q",
        "outputId": "41352fd6-f665-40ac-8d05-d98219aa4049"
      },
      "source": [
        "import seaborn as sns## for processing\n",
        "\n",
        "classes = np.unique(y_val)\n",
        "y_test_array = pd.get_dummies(y_val, drop_first=False).values\n",
        "\n",
        "## Accuracy, Precision, Recall\n",
        "accuracy = metrics.accuracy_score(y_val, y_pred)\n",
        "#auc = metrics.roc_auc_score(y_test, predicted_prob, multi_class=\"ovr\")\n",
        "print(\"Accuracy:\",  round(accuracy,2))\n",
        "#print(\"Auc:\", round(auc,2))\n",
        "print(\"Detail:\")\n",
        "print(metrics.classification_report(y_val, y_pred))\n",
        "\n",
        "## Plot confusion matrix\n",
        "cm = metrics.confusion_matrix(y_val, y_pred)\n",
        "fig, ax = plt.subplots()\n",
        "sns.heatmap(cm, annot=True, fmt='d', ax=ax, cmap=plt.cm.Blues,\n",
        "            cbar=False)\n",
        "ax.set(xlabel=\"Pred\", ylabel=\"True\", xticklabels=classes,\n",
        "       yticklabels=classes, title=\"Confusion matrix_B0\")\n",
        "plt.yticks(rotation=0)\n",
        "\n",
        "fig, ax = plt.subplots(nrows=1, ncols=2,figsize=(15,5))\n",
        "\n",
        "## Plot roc\n",
        "for i in range(len(classes)):\n",
        "    fpr, tpr, thresholds = metrics.roc_curve(y_test_array[:,i],\n",
        "                           predictions[:,i])\n",
        "    ax[0].plot(fpr, tpr, lw=3,\n",
        "              label='{0} (area={1:0.2f})'.format(classes[i],\n",
        "                              metrics.auc(fpr, tpr))\n",
        "               )\n",
        "ax[0].plot([0,1], [0,1], color='green', lw=3, linestyle='--')\n",
        "ax[0].set(xlim=[-0.05,1.0], ylim=[0.0,1.05],\n",
        "          xlabel='False Positive Rate',\n",
        "          ylabel=\"True Positive Rate (Recall)\",\n",
        "          title=\"Receiver operating characteristic_B0\")\n",
        "ax[0].legend(loc=\"lower right\")\n",
        "ax[0].grid(True)\n",
        "\n",
        "## Plot precision-recall curve\n",
        "for i in range(len(classes)):\n",
        "    precision, recall, thresholds = metrics.precision_recall_curve(\n",
        "                 y_test_array[:,i], predictions[:,i])\n",
        "    ax[1].plot(recall, precision, lw=3,\n",
        "               label='{0} (area={1:0.2f})'.format(classes[i],\n",
        "                                  metrics.auc(recall, precision))\n",
        "              )\n",
        "ax[1].set(xlim=[0.0,1.05], ylim=[0.0,1.05], xlabel='Recall',\n",
        "          ylabel=\"Precision\", title=\"Precision-Recall curve_B0\")\n",
        "ax[1].legend(loc=\"best\")\n",
        "ax[1].grid(True)\n",
        "plt.show()"
      ],
      "execution_count": null,
      "outputs": [
        {
          "output_type": "stream",
          "name": "stdout",
          "text": [
            "Accuracy: 0.61\n",
            "Detail:\n",
            "              precision    recall  f1-score   support\n",
            "\n",
            "           0       0.64      0.92      0.75      1118\n",
            "           1       0.32      0.07      0.12       625\n",
            "\n",
            "    accuracy                           0.61      1743\n",
            "   macro avg       0.48      0.49      0.44      1743\n",
            "weighted avg       0.53      0.61      0.52      1743\n",
            "\n"
          ]
        },
        {
          "output_type": "display_data",
          "data": {
            "image/png": "[encoded data removed]",
            "text/plain": [
              "<Figure size 432x288 with 1 Axes>"
            ]
          },
          "metadata": {
            "needs_background": "light"
          }
        },
        {
          "output_type": "display_data",
          "data": {
            "image/png": "[encoded data removed]",
            "text/plain": [
              "<Figure size 1080x360 with 2 Axes>"
            ]
          },
          "metadata": {
            "needs_background": "light"
          }
        }
      ]
    },
    {
      "cell_type": "code",
      "metadata": {
        "colab": {
          "base_uri": "https://localhost:8080/"
        },
        "id": "-ft6-DXdfk34",
        "outputId": "1cd07b20-7a7a-4e1b-af57-cba00072f3c9"
      },
      "source": [
        "print(\"Length of the Training Set : {}\".format(len(x_train)))\n",
        "print(\"Length of the Validation Set : {}\".format(len(x_val)))\n",
        "print(\"Length of the Training Set : {}\".format(len(y_train)))\n",
        "print(\"Length of the Training Set : {}\".format(len(y_val)))"
      ],
      "execution_count": null,
      "outputs": [
        {
          "output_type": "stream",
          "name": "stdout",
          "text": [
            "Length of the Training Set : 3537\n",
            "Length of the Validation Set : 1743\n",
            "Length of the Training Set : 3537\n",
            "Length of the Training Set : 1743\n"
          ]
        }
      ]
    },
    {
      "cell_type": "code",
      "metadata": {
        "colab": {
          "base_uri": "https://localhost:8080/"
        },
        "id": "v22hXY3g5KGB",
        "outputId": "344a18aa-530a-4450-a882-b2b57775d503"
      },
      "source": [
        "def unfreeze_model(model):\n",
        "    # We unfreeze the top 20 layers while leaving BatchNorm layers frozen\n",
        "    for layer in model.layers[-20:]:\n",
        "        if not isinstance(layer, layers.BatchNormalization):\n",
        "            layer.trainable = True\n",
        "    mse = tf.keras.losses.MeanSquaredLogarithmicError()\n",
        "\n",
        "    optimizer = tf.keras.optimizers.Adam(learning_rate=1e-4)\n",
        "    model.compile(\n",
        "        optimizer=optimizer, loss= mse, metrics=[\"accuracy\"]\n",
        "    )\n",
        "\n",
        "\n",
        "unfreeze_model(model)\n",
        "\n",
        "epochs = 10 # @param {type: \"slider\", min:8, max:50}\n",
        "#hist = model.fit(ds_train, epochs=epochs, validation_data=ds_test, verbose=2)\n",
        "hist = model.fit(x_train,y_train,\n",
        "                  epochs= epochs,\n",
        "                  #initial_epoch=hist.epoch[-1],\n",
        "                  validation_data=(x_val, y_val))\n"
      ],
      "execution_count": null,
      "outputs": [
        {
          "output_type": "stream",
          "name": "stdout",
          "text": [
            "Epoch 1/10\n",
            "111/111 [==============================] - 36s 235ms/step - loss: 0.0876 - accuracy: 0.7193 - val_loss: 0.1564 - val_accuracy: 0.8692\n",
            "Epoch 2/10\n",
            "111/111 [==============================] - 23s 208ms/step - loss: 0.0823 - accuracy: 0.7518 - val_loss: 0.1495 - val_accuracy: 0.7527\n",
            "Epoch 3/10\n",
            "111/111 [==============================] - 23s 208ms/step - loss: 0.0816 - accuracy: 0.7540 - val_loss: 0.1549 - val_accuracy: 0.8181\n",
            "Epoch 4/10\n",
            "111/111 [==============================] - 23s 209ms/step - loss: 0.0791 - accuracy: 0.7659 - val_loss: 0.1604 - val_accuracy: 0.8761\n",
            "Epoch 5/10\n",
            "111/111 [==============================] - 23s 210ms/step - loss: 0.0773 - accuracy: 0.7707 - val_loss: 0.1586 - val_accuracy: 0.8439\n",
            "Epoch 6/10\n",
            "111/111 [==============================] - 23s 209ms/step - loss: 0.0756 - accuracy: 0.7744 - val_loss: 0.1603 - val_accuracy: 0.8313\n",
            "Epoch 7/10\n",
            "111/111 [==============================] - 23s 209ms/step - loss: 0.0751 - accuracy: 0.7699 - val_loss: 0.1520 - val_accuracy: 0.7286\n",
            "Epoch 8/10\n",
            "111/111 [==============================] - 23s 209ms/step - loss: 0.0717 - accuracy: 0.7891 - val_loss: 0.1562 - val_accuracy: 0.7372\n",
            "Epoch 9/10\n",
            "111/111 [==============================] - 23s 209ms/step - loss: 0.0688 - accuracy: 0.8007 - val_loss: 0.1573 - val_accuracy: 0.7550\n",
            "Epoch 10/10\n",
            "111/111 [==============================] - 23s 210ms/step - loss: 0.0672 - accuracy: 0.8086 - val_loss: 0.1592 - val_accuracy: 0.8015\n"
          ]
        }
      ]
    },
    {
      "cell_type": "code",
      "metadata": {
        "colab": {
          "base_uri": "https://localhost:8080/",
          "height": 513
        },
        "id": "gEU22McIeYl6",
        "outputId": "cc8abf2f-bbf0-4ffb-db6d-98bcfb94d9d2"
      },
      "source": [
        "acc = hist.history['accuracy']\n",
        "val_acc = hist.history['val_accuracy']\n",
        "\n",
        "loss = hist.history['loss']\n",
        "val_loss = hist.history['val_loss']\n",
        "\n",
        "plt.figure(figsize=(8, 8))\n",
        "plt.subplot(2, 1, 1)\n",
        "plt.plot(acc, label='Training Accuracy')\n",
        "plt.plot(val_acc, label='Validation Accuracy')\n",
        "plt.legend(loc='lower right')\n",
        "plt.ylabel('Accuracy')\n",
        "plt.ylim([min(plt.ylim()),1])\n",
        "plt.title('Training and Validation Accuracy_B0')\n",
        "\n",
        "plt.subplot(2, 1, 2)\n",
        "plt.plot(loss, label='Training Loss')\n",
        "plt.plot(val_loss, label='Validation Loss')\n",
        "plt.legend(loc='upper right')\n",
        "plt.ylabel('Cross Entropy')\n",
        "plt.ylim([0,1.0])\n",
        "plt.title('Training and Validation Loss_B0')\n",
        "plt.xlabel('epoch')\n",
        "plt.show()"
      ],
      "execution_count": null,
      "outputs": [
        {
          "output_type": "display_data",
          "data": {
            "image/png": "[encoded data removed]",
            "text/plain": [
              "<Figure size 576x576 with 2 Axes>"
            ]
          },
          "metadata": {
            "needs_background": "light"
          }
        }
      ]
    },
    {
      "cell_type": "code",
      "metadata": {
        "colab": {
          "base_uri": "https://localhost:8080/"
        },
        "id": "Xz_N7KNMM8oS",
        "outputId": "2cd1b973-87a2-4c2c-db24-23d1b103d4e9"
      },
      "source": [
        "predictions1 = model.predict(x_val)\n",
        "y_pred = np.argmax(predictions1, axis=1)\n",
        "\n",
        "score = predictions1[0]\n",
        "print(100 * score)\n"
      ],
      "execution_count": null,
      "outputs": [
        {
          "output_type": "stream",
          "name": "stdout",
          "text": [
            "[94.82755   3.143286]\n"
          ]
        }
      ]
    },
    {
      "cell_type": "code",
      "metadata": {
        "colab": {
          "base_uri": "https://localhost:8080/"
        },
        "id": "CjG8kMXfLTbE",
        "outputId": "7357fa20-ade3-45f6-a050-585401c182c8"
      },
      "source": [
        "mt = confusion_matrix(y_val, y_pred)\n",
        "print(\"False positive rate : %f %%\" % ((mt[0][1] / float(sum(mt[0])))*100))\n",
        "print('False negative rate : %f %%' % ( (mt[1][0] / float(sum(mt[1]))*100)))"
      ],
      "execution_count": null,
      "outputs": [
        {
          "output_type": "stream",
          "name": "stdout",
          "text": [
            "False positive rate : 20.035778 %\n",
            "False negative rate : 80.480000 %\n"
          ]
        }
      ]
    },
    {
      "cell_type": "code",
      "metadata": {
        "colab": {
          "base_uri": "https://localhost:8080/"
        },
        "id": "XyERh15wMM1e",
        "outputId": "86621029-5347-438d-c859-8634bb3316f8"
      },
      "source": [
        "print(metrics.classification_report(y_val, y_pred))"
      ],
      "execution_count": null,
      "outputs": [
        {
          "output_type": "stream",
          "name": "stdout",
          "text": [
            "              precision    recall  f1-score   support\n",
            "\n",
            "           0       0.64      0.80      0.71      1118\n",
            "           1       0.35      0.20      0.25       625\n",
            "\n",
            "    accuracy                           0.58      1743\n",
            "   macro avg       0.50      0.50      0.48      1743\n",
            "weighted avg       0.54      0.58      0.55      1743\n",
            "\n"
          ]
        }
      ]
    },
    {
      "cell_type": "code",
      "metadata": {
        "colab": {
          "base_uri": "https://localhost:8080/",
          "height": 592
        },
        "id": "O_E7m0-LMv29",
        "outputId": "6449dffc-399f-4b44-9d67-50942c12226c"
      },
      "source": [
        "import seaborn as sns## for processing\n",
        "\n",
        "classes = np.unique(y_val)\n",
        "y_test_array = pd.get_dummies(y_val, drop_first=False).values\n",
        "\n",
        "## Accuracy, Precision, Recall\n",
        "accuracy = metrics.accuracy_score(y_val, y_pred)\n",
        "#auc = metrics.roc_auc_score(y_test, predicted_prob, multi_class=\"ovr\")\n",
        "print(\"Accuracy:\",  round(accuracy,2))\n",
        "#print(\"Auc:\", round(auc,2))\n",
        "print(\"Detail:\")\n",
        "print(metrics.classification_report(y_val, y_pred))\n",
        "\n",
        "## Plot confusion matrix\n",
        "cm = metrics.confusion_matrix(y_val, y_pred)\n",
        "fig, ax = plt.subplots()\n",
        "sns.heatmap(cm, annot=True, fmt='d', ax=ax, cmap=plt.cm.Blues,\n",
        "            cbar=False)\n",
        "ax.set(xlabel=\"Pred\", ylabel=\"True\", xticklabels=classes,\n",
        "       yticklabels=classes, title=\"Confusion matrix_B0\")\n",
        "plt.yticks(rotation=0)\n",
        "\n",
        "\"\"\"fig, ax = plt.subplots(nrows=1, ncols=2,figsize=(15,5))\n",
        "\n",
        "## Plot roc\n",
        "for i in range(len(classes)):\n",
        "    fpr, tpr, thresholds = metrics.roc_curve(y_test_array[:,i],\n",
        "                           predictions[:,i])\n",
        "    ax[0].plot(fpr, tpr, lw=3,\n",
        "              label='{0} (area={1:0.2f})'.format(classes[i],\n",
        "                              metrics.auc(fpr, tpr))\n",
        "               )\n",
        "ax[0].plot([0,1], [0,1], color='green', lw=3, linestyle='--')\n",
        "ax[0].set(xlim=[-0.05,1.0], ylim=[0.0,1.05],\n",
        "          xlabel='False Positive Rate',\n",
        "          ylabel=\"True Positive Rate (Recall)\",\n",
        "          title=\"Receiver operating characteristic\")\n",
        "ax[0].legend(loc=\"lower right\")\n",
        "ax[0].grid(True)\n",
        "\n",
        "## Plot precision-recall curve\n",
        "for i in range(len(classes)):\n",
        "    precision, recall, thresholds = metrics.precision_recall_curve(\n",
        "                 y_test_array[:,i], predictions[:,i])\n",
        "    ax[1].plot(recall, precision, lw=3,\n",
        "               label='{0} (area={1:0.2f})'.format(classes[i],\n",
        "                                  metrics.auc(recall, precision))\n",
        "              )\n",
        "ax[1].set(xlim=[0.0,1.05], ylim=[0.0,1.05], xlabel='Recall',\n",
        "          ylabel=\"Precision\", title=\"Precision-Recall curve\")\n",
        "ax[1].legend(loc=\"best\")\n",
        "ax[1].grid(True)\n",
        "plt.show()\"\"\""
      ],
      "execution_count": null,
      "outputs": [
        {
          "output_type": "stream",
          "name": "stdout",
          "text": [
            "Accuracy: 0.58\n",
            "Detail:\n",
            "              precision    recall  f1-score   support\n",
            "\n",
            "           0       0.64      0.80      0.71      1118\n",
            "           1       0.35      0.20      0.25       625\n",
            "\n",
            "    accuracy                           0.58      1743\n",
            "   macro avg       0.50      0.50      0.48      1743\n",
            "weighted avg       0.54      0.58      0.55      1743\n",
            "\n"
          ]
        },
        {
          "output_type": "execute_result",
          "data": {
            "application/vnd.google.colaboratory.intrinsic+json": {
              "type": "string"
            },
            "text/plain": [
              "'fig, ax = plt.subplots(nrows=1, ncols=2,figsize=(15,5))\\n\\n## Plot roc\\nfor i in range(len(classes)):\\n    fpr, tpr, thresholds = metrics.roc_curve(y_test_array[:,i],  \\n                           predictions[:,i])\\n    ax[0].plot(fpr, tpr, lw=3, \\n              label=\\'{0} (area={1:0.2f})\\'.format(classes[i], \\n                              metrics.auc(fpr, tpr))\\n               )\\nax[0].plot([0,1], [0,1], color=\\'green\\', lw=3, linestyle=\\'--\\')\\nax[0].set(xlim=[-0.05,1.0], ylim=[0.0,1.05], \\n          xlabel=\\'False Positive Rate\\', \\n          ylabel=\"True Positive Rate (Recall)\", \\n          title=\"Receiver operating characteristic\")\\nax[0].legend(loc=\"lower right\")\\nax[0].grid(True)\\n    \\n## Plot precision-recall curve\\nfor i in range(len(classes)):\\n    precision, recall, thresholds = metrics.precision_recall_curve(\\n                 y_test_array[:,i], predictions[:,i])\\n    ax[1].plot(recall, precision, lw=3, \\n               label=\\'{0} (area={1:0.2f})\\'.format(classes[i], \\n                                  metrics.auc(recall, precision))\\n              )\\nax[1].set(xlim=[0.0,1.05], ylim=[0.0,1.05], xlabel=\\'Recall\\', \\n          ylabel=\"Precision\", title=\"Precision-Recall curve\")\\nax[1].legend(loc=\"best\")\\nax[1].grid(True)\\nplt.show()'"
            ]
          },
          "metadata": {},
          "execution_count": 43
        },
        {
          "output_type": "display_data",
          "data": {
            "image/png": "[encoded data removed]",
            "text/plain": [
              "<Figure size 432x288 with 1 Axes>"
            ]
          },
          "metadata": {
            "needs_background": "light"
          }
        }
      ]
    },
    {
      "cell_type": "code",
      "metadata": {
        "colab": {
          "base_uri": "https://localhost:8080/"
        },
        "id": "YHQkeJ6sOq88",
        "outputId": "01317a37-d4af-4735-c3e2-88754272e4c0"
      },
      "source": [
        "histt1 = model.evaluate(x_train,y_train)"
      ],
      "execution_count": null,
      "outputs": [
        {
          "output_type": "stream",
          "name": "stdout",
          "text": [
            "111/111 [==============================] - 17s 131ms/step - loss: 0.0747 - accuracy: 0.7733\n"
          ]
        }
      ]
    },
    {
      "cell_type": "code",
      "metadata": {
        "colab": {
          "base_uri": "https://localhost:8080/"
        },
        "id": "0j_Esj7GOvdp",
        "outputId": "da589398-8658-4345-8849-981d0c96de58"
      },
      "source": [
        "histt2 = model.evaluate(x_val,y_val)"
      ],
      "execution_count": null,
      "outputs": [
        {
          "output_type": "stream",
          "name": "stdout",
          "text": [
            "55/55 [==============================] - 7s 130ms/step - loss: 0.1592 - accuracy: 0.8015\n"
          ]
        }
      ]
    }
  ]
}